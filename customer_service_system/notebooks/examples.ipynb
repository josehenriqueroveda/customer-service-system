{
 "cells": [
  {
   "cell_type": "code",
   "execution_count": 1,
   "metadata": {},
   "outputs": [],
   "source": [
    "from customer_service_system.models.Feedback import Feedback\n",
    "from customer_service_system.models.FeedbackAnalyzer import FeedbackAnalyzer"
   ]
  },
  {
   "cell_type": "code",
   "execution_count": 9,
   "metadata": {},
   "outputs": [],
   "source": [
    "feedbacks = [\n",
    "    Feedback(\n",
    "        feedback_id=1,\n",
    "        customer_id=1,\n",
    "        feedback_type=\"complaint\",\n",
    "        feedback_grade=8,\n",
    "        feedback_content=\"I am satisfied with the product\",\n",
    "        feedback_date=\"2021-01-01\",\n",
    "    ),\n",
    "    Feedback(\n",
    "        feedback_id=2,\n",
    "        customer_id=2,\n",
    "        feedback_type=\"compliment\",\n",
    "        feedback_grade=10,\n",
    "        feedback_content=\"I am very satisfied with the product\",\n",
    "        feedback_date=\"2021-01-02\",\n",
    "    ),\n",
    "    Feedback(\n",
    "        feedback_id=3,\n",
    "        customer_id=3,\n",
    "        feedback_type=\"complaint\",\n",
    "        feedback_grade=5,\n",
    "        feedback_content=\"I am not satisfied with the product\",\n",
    "        feedback_date=\"2021-01-03\",\n",
    "    ),\n",
    "    Feedback(\n",
    "        feedback_id=4,\n",
    "        customer_id=4,\n",
    "        feedback_type=\"suggestion\",\n",
    "        feedback_grade=9,\n",
    "        feedback_content=\"I think the product could be improved, but I like it\",\n",
    "        feedback_date=\"2021-01-04\",\n",
    "    ),\n",
    "    Feedback(\n",
    "        feedback_id=5,\n",
    "        customer_id=5,\n",
    "        feedback_type=\"compliment\",\n",
    "        feedback_grade=10,\n",
    "        feedback_content=\"The product exceeded my expectations\",\n",
    "        feedback_date=\"2021-01-05\",\n",
    "    ),\n",
    "    Feedback(\n",
    "        feedback_id=6,\n",
    "        customer_id=6,\n",
    "        feedback_type=\"complaint\",\n",
    "        feedback_grade=9,\n",
    "        feedback_content=\"The product is of good quality\",\n",
    "        feedback_date=\"2021-01-06\",\n",
    "    ),\n",
    "    Feedback(\n",
    "        feedback_id=7,\n",
    "        customer_id=7,\n",
    "        feedback_type=\"suggestion\",\n",
    "        feedback_grade=9,\n",
    "        feedback_content=\"The product is a bit expensive, but is good quality\",\n",
    "        feedback_date=\"2021-01-07\",\n",
    "    ),\n",
    "    Feedback(\n",
    "        feedback_id=8,\n",
    "        customer_id=8,\n",
    "        feedback_type=\"compliment\",\n",
    "        feedback_grade=10,\n",
    "        feedback_content=\"The product is amazing\",\n",
    "        feedback_date=\"2021-01-08\",\n",
    "    ),\n",
    "    Feedback(\n",
    "        feedback_id=9,\n",
    "        customer_id=9,\n",
    "        feedback_type=\"complaint\",\n",
    "        feedback_grade=9,\n",
    "        feedback_content=\"The product is as described\",\n",
    "        feedback_date=\"2021-01-09\",\n",
    "    ),\n",
    "    Feedback(\n",
    "        feedback_id=10,\n",
    "        customer_id=10,\n",
    "        feedback_type=\"suggestion\",\n",
    "        feedback_grade=10,\n",
    "        feedback_content=\"The product is very well made\",\n",
    "        feedback_date=\"2021-01-10\",\n",
    "    ),\n",
    "]"
   ]
  },
  {
   "cell_type": "code",
   "execution_count": 10,
   "metadata": {},
   "outputs": [],
   "source": [
    "feedback_analyzer = FeedbackAnalyzer()"
   ]
  },
  {
   "cell_type": "code",
   "execution_count": 11,
   "metadata": {},
   "outputs": [
    {
     "name": "stdout",
     "output_type": "stream",
     "text": [
      "nps: 70.0\n",
      "promoters: 80.0%\n",
      "detractors: 10.0%\n",
      "passives: 10.0%\n"
     ]
    },
    {
     "data": {
      "image/png": "[encoded data removed]",
      "text/plain": [
       "<Figure size 1000x200 with 1 Axes>"
      ]
     },
     "metadata": {},
     "output_type": "display_data"
    },
    {
     "data": {
      "text/plain": [
       "'{\"summary\": \"Overall, the feedback from the grades 8, 9, and 10 students is positive. They express satisfaction, liking, and even exceed expectations with the product. They also mention good quality, as described, well made, and amazing features. However, a grade 5 student is not satisfied with the product, and a grade 9 student points out that it could be improved and is expensive. Overall, the majority of the feedback indicates a positive sentiment towards the product.\"}'"
      ]
     },
     "execution_count": 11,
     "metadata": {},
     "output_type": "execute_result"
    }
   ],
   "source": [
    "feedback_analyzer.analyze_feelings(feedbacks)"
   ]
  }
 ],
 "metadata": {
  "kernelspec": {
   "display_name": "customer-service-system-mDnUCUYz-py3.11",
   "language": "python",
   "name": "python3"
  },
  "language_info": {
   "codemirror_mode": {
    "name": "ipython",
    "version": 3
   },
   "file_extension": ".py",
   "mimetype": "text/x-python",
   "name": "python",
   "nbconvert_exporter": "python",
   "pygments_lexer": "ipython3",
   "version": "3.11.4"
  },
  "orig_nbformat": 4
 },
 "nbformat": 4,
 "nbformat_minor": 2
}
