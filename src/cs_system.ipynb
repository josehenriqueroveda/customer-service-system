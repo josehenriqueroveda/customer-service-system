{
 "cells": [
  {
   "cell_type": "code",
   "execution_count": 1,
   "metadata": {},
   "outputs": [],
   "source": [
    "import os\n",
    "import json\n",
    "\n",
    "import utils\n",
    "\n",
    "import openai\n",
    "from dotenv import load_dotenv, find_dotenv\n",
    "_ = load_dotenv(find_dotenv())\n",
    "\n",
    "openai.api_key = os.getenv(\"OPENAI_API_KEY\")"
   ]
  },
  {
   "cell_type": "code",
   "execution_count": 2,
   "metadata": {},
   "outputs": [],
   "source": [
    "products = utils.PRODUCTS"
   ]
  },
  {
   "cell_type": "code",
   "execution_count": 3,
   "metadata": {},
   "outputs": [],
   "source": [
    "def get_completion(messages, model=\"gpt-3.5-turbo\", temperature=0, max_tokens=500):\n",
    "    response = openai.ChatCompletion.create(\n",
    "        model=model,\n",
    "        messages=messages,\n",
    "        temperature=temperature,\n",
    "        max_tokens=max_tokens,\n",
    "    )\n",
    "    return response.choices[0].message[\"content\"]"
   ]
  },
  {
   "cell_type": "code",
   "execution_count": 10,
   "metadata": {},
   "outputs": [],
   "source": [
    "def get_product_by_name(products, name):\n",
    "    return products.get(name, None)"
   ]
  },
  {
   "cell_type": "code",
   "execution_count": 5,
   "metadata": {},
   "outputs": [],
   "source": [
    "def get_products_by_crop(products, crop):\n",
    "    return [product for product in products.values() if product[\"crop\"] == crop]"
   ]
  },
  {
   "cell_type": "code",
   "execution_count": 7,
   "metadata": {},
   "outputs": [],
   "source": [
    "user_message_1 = f\"\"\"\n",
    "tell me about the harvest gold and \\\n",
    "the sunburst joy. \\\n",
    "tell me about your sorghum products too. \"\"\""
   ]
  },
  {
   "cell_type": "code",
   "execution_count": 8,
   "metadata": {},
   "outputs": [],
   "source": [
    "messages = [\n",
    "    {\n",
    "        \"role\": \"system\",\n",
    "        \"content\": utils.SYSTEM_MESSAGE\n",
    "    },\n",
    "    {\n",
    "        \"role\": \"user\",\n",
    "        \"content\": f\"{utils.DELIMITER}{user_message_1}{utils.DELIMITER}\"\n",
    "    }\n",
    "]"
   ]
  },
  {
   "cell_type": "code",
   "execution_count": 9,
   "metadata": {},
   "outputs": [
    {
     "name": "stdout",
     "output_type": "stream",
     "text": [
      "[{'hybrids': ['Harvest Gold', 'Sunburst Joy']}, {'crop': 'sorghum'}]\n"
     ]
    }
   ],
   "source": [
    "response_1 = get_completion(messages)\n",
    "print(response_1)"
   ]
  },
  {
   "cell_type": "code",
   "execution_count": 11,
   "metadata": {},
   "outputs": [
    {
     "name": "stdout",
     "output_type": "stream",
     "text": [
      "{'crop': 'sorghum', 'brand': 'Red River Farms', 'hybrid': 'Ruby Rain', 'cycle': 'Early', 'characteristics': 'Pest-resistant', 'price': 230.0}\n"
     ]
    }
   ],
   "source": [
    "print(get_product_by_name(products, \"Ruby Rain\"))"
   ]
  },
  {
   "cell_type": "code",
   "execution_count": 12,
   "metadata": {},
   "outputs": [
    {
     "name": "stdout",
     "output_type": "stream",
     "text": [
      "[{'crop': 'corn', 'brand': 'Prairie Farms', 'hybrid': 'Golden Blaze', 'cycle': 'Normal', 'characteristics': 'Drought-resistant', 'price': 200.0}, {'crop': 'corn', 'brand': 'Harvest Fields', 'hybrid': 'Amber Harvest', 'cycle': 'Early', 'characteristics': 'High yield', 'price': 220.0}, {'crop': 'corn', 'brand': 'Sunset Seeds', 'hybrid': 'Starfire Gold', 'cycle': 'Normal', 'characteristics': 'Pest-resistant', 'price': 230.0}, {'crop': 'corn', 'brand': 'Sunrise Agriculture', 'hybrid': 'Crimson Sun', 'cycle': 'Late', 'characteristics': 'Heat-tolerant', 'price': 220.0}, {'crop': 'corn', 'brand': 'Stormy Fields', 'hybrid': 'Thunderstrike', 'cycle': 'Normal', 'characteristics': 'High-quality grains', 'price': 240.0}, {'crop': 'corn', 'brand': 'Green Valley Farms', 'hybrid': 'Evergreen Giant', 'cycle': 'Late', 'characteristics': 'Growth vigor', 'price': 230.0}, {'crop': 'corn', 'brand': 'Radiant Seeds', 'hybrid': 'Radiant Maize', 'cycle': 'Normal', 'characteristics': 'High starch content', 'price': 220.0}, {'crop': 'corn', 'brand': 'Velvet Acres', 'hybrid': 'Velvet Sky', 'cycle': 'Early', 'characteristics': 'Uniform kernel size', 'price': 210.0}, {'crop': 'corn', 'brand': 'Solar Seeds', 'hybrid': 'Solar Flare', 'cycle': 'Normal', 'characteristics': 'Excellent stalk strength', 'price': 230.0}, {'crop': 'corn', 'brand': 'Lunar Farms', 'hybrid': 'Moonlit Mirage', 'cycle': 'Late', 'characteristics': 'Large ear size', 'price': 240.0}]\n"
     ]
    }
   ],
   "source": [
    "print(get_products_by_crop(products, \"corn\"))"
   ]
  },
  {
   "cell_type": "code",
   "execution_count": 6,
   "metadata": {},
   "outputs": [],
   "source": [
    "def read_string_to_list(input_string):\n",
    "    if input_string is None:\n",
    "        return None\n",
    "\n",
    "    try:\n",
    "        input_string = input_string.replace(\"'\", '\"')\n",
    "        data = json.loads(input_string)\n",
    "        return data\n",
    "    except json.JSONDecodeError:\n",
    "        print(\"Invalid JSON\")\n",
    "        return None"
   ]
  },
  {
   "cell_type": "code",
   "execution_count": 13,
   "metadata": {},
   "outputs": [
    {
     "name": "stdout",
     "output_type": "stream",
     "text": [
      "[{'hybrids': ['Harvest Gold', 'Sunburst Joy']}, {'crop': 'sorghum'}]\n"
     ]
    }
   ],
   "source": [
    "products_list = read_string_to_list(response_1)\n",
    "print(products_list)"
   ]
  },
  {
   "cell_type": "code",
   "execution_count": null,
   "metadata": {},
   "outputs": [],
   "source": []
  }
 ],
 "metadata": {
  "kernelspec": {
   "display_name": "venv",
   "language": "python",
   "name": "python3"
  },
  "language_info": {
   "codemirror_mode": {
    "name": "ipython",
    "version": 3
   },
   "file_extension": ".py",
   "mimetype": "text/x-python",
   "name": "python",
   "nbconvert_exporter": "python",
   "pygments_lexer": "ipython3",
   "version": "3.11.1"
  },
  "orig_nbformat": 4
 },
 "nbformat": 4,
 "nbformat_minor": 2
}
